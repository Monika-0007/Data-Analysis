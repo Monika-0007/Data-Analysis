{
 "cells": [
  {
   "cell_type": "code",
   "execution_count": null,
   "id": "5300fb81-2606-47af-bd91-684bcf8a5fd2",
   "metadata": {},
   "outputs": [],
   "source": [
    "import pandas as pd\n",
    "import numpy as np\n",
    "import seaborn as sns\n",
    "import matplotlib.pyplot as plt\n",
    "%matplotlib inline"
   ]
  },
  {
   "cell_type": "code",
   "execution_count": null,
   "id": "62d512ff-0798-42c0-8ce0-a79026bc3ebb",
   "metadata": {},
   "outputs": [],
   "source": [
    "pwd"
   ]
  },
  {
   "cell_type": "code",
   "execution_count": null,
   "id": "35cc99d7-b746-405e-87b6-5f45ba9bfb97",
   "metadata": {},
   "outputs": [],
   "source": [
    "df = pd.read_csv(\"C:\\\\Users\\\\DV2041TU\\\\DeliveryTimeEstimation.csv\") #Food Delivery Time Estimation Dataset\n",
    "df"
   ]
  },
  {
   "cell_type": "code",
   "execution_count": null,
   "id": "d55d2c9b-e01f-452a-a086-2b9def7f9e92",
   "metadata": {},
   "outputs": [],
   "source": [
    "df.info()"
   ]
  },
  {
   "cell_type": "code",
   "execution_count": null,
   "id": "fa606d3d-6b07-4659-b755-8291b9b9fabe",
   "metadata": {},
   "outputs": [],
   "source": [
    "df.describe()"
   ]
  },
  {
   "cell_type": "code",
   "execution_count": null,
   "id": "b9f5ecd3-3a2d-4998-834e-e67933a7fe7c",
   "metadata": {},
   "outputs": [],
   "source": [
    "df.describe(include='object')"
   ]
  },
  {
   "cell_type": "code",
   "execution_count": null,
   "id": "bf590fe0-6228-4f91-b157-c2c8baf9d14d",
   "metadata": {},
   "outputs": [],
   "source": [
    "df.drop(['order_id'], axis=1, inplace=True)\n",
    "df"
   ]
  },
  {
   "cell_type": "code",
   "execution_count": null,
   "id": "a94c5206-04f7-4781-8664-12003d375b39",
   "metadata": {},
   "outputs": [],
   "source": [
    "df.isnull()\n",
    "df.isnull().sum()"
   ]
  },
  {
   "cell_type": "code",
   "execution_count": null,
   "id": "f84ee333-7980-4b5a-b1ad-771d411e876a",
   "metadata": {},
   "outputs": [],
   "source": [
    "df['weather'].value_counts()"
   ]
  },
  {
   "cell_type": "code",
   "execution_count": null,
   "id": "9c1489fe-75e1-402f-a0a1-7c3e6ee44493",
   "metadata": {},
   "outputs": [],
   "source": [
    "sns.countplot(x ='weather', data=df)\n",
    "plt.show()"
   ]
  },
  {
   "cell_type": "code",
   "execution_count": null,
   "id": "4a3722c1-5e89-4e4e-9b84-91e951fa21f6",
   "metadata": {},
   "outputs": [],
   "source": [
    "sns.displot(df['distance_km'], kind='hist')\n",
    "plt.show()"
   ]
  },
  {
   "cell_type": "code",
   "execution_count": null,
   "id": "6014f5e7-6ac3-404b-90e4-b3895ab8daec",
   "metadata": {},
   "outputs": [],
   "source": [
    "sns.scatterplot(x=df['distance_km'], y=df['delivery_time'])\n",
    "plt.title('Delivery Time vs Distance')\n",
    "plt.xlabel('Distance (km)')\n",
    "plt.ylabel('Delivery Time (mins)')\n",
    "plt.show()"
   ]
  },
  {
   "cell_type": "code",
   "execution_count": null,
   "id": "97974a6c-2105-4cdc-a2af-1b236af6abd1",
   "metadata": {},
   "outputs": [],
   "source": [
    "num_df = df.select_dtypes(include=['float64', 'int64'])\n",
    "num_df.corr()"
   ]
  },
  {
   "cell_type": "code",
   "execution_count": null,
   "id": "9c072fa4-142e-44e8-9514-61cf34cf5350",
   "metadata": {},
   "outputs": [],
   "source": [
    "df['distance_km'].skew()#negatively skewed"
   ]
  },
  {
   "cell_type": "code",
   "execution_count": null,
   "id": "bd98d287-4999-47e3-a2bc-259847f01816",
   "metadata": {},
   "outputs": [],
   "source": [
    "df['delivery_time'].skew()#moderately skewed"
   ]
  },
  {
   "cell_type": "code",
   "execution_count": null,
   "id": "b43ea5d9-ef47-4460-a643-7109c1dcc160",
   "metadata": {},
   "outputs": [],
   "source": [
    "#Outlier detection of delivery time column\n",
    "sns.boxplot(df['distance_km'])\n",
    "plt.show()"
   ]
  },
  {
   "cell_type": "code",
   "execution_count": null,
   "id": "8961bdf7-56f8-4c66-8f2a-4b2cea0174a3",
   "metadata": {},
   "outputs": [],
   "source": [
    "sns.boxplot(df['delivery_time'])\n",
    "plt.show()"
   ]
  },
  {
   "cell_type": "code",
   "execution_count": null,
   "id": "a1922d20-7b1b-45ba-9b12-1f0553a6f282",
   "metadata": {},
   "outputs": [],
   "source": [
    "x=df['distance_km'] #independent variable\n",
    "y=df['delivery_time'] #dependent variable"
   ]
  },
  {
   "cell_type": "code",
   "execution_count": null,
   "id": "e7af2e54-d479-473c-807b-99b077ca2e9c",
   "metadata": {},
   "outputs": [],
   "source": [
    "#Plotting best fit line on a scatter plot\n",
    "plt.scatter(x,y)\n",
    "m,b = np.polyfit(x, y, 1)\n",
    "plt.plot(x, m*x + b, 'r')\n",
    "plt.show()"
   ]
  },
  {
   "cell_type": "code",
   "execution_count": null,
   "id": "c0ad7f09-9432-4e6a-b5a4-23d15ca40f3e",
   "metadata": {},
   "outputs": [],
   "source": [
    "#Creating list of numeric columns\n",
    "df.select_dtypes(include=[np.number]).columns.tolist()\n",
    "#Creating dataframe of numeric columns\n",
    "df_num = df[['distance_km', 'delivery_time']]\n",
    "df_num"
   ]
  },
  {
   "cell_type": "code",
   "execution_count": null,
   "id": "a9bbdb8c-82ae-4888-9a64-3c3d29aa92f4",
   "metadata": {},
   "outputs": [],
   "source": [
    "\"\"\"df.select_dtypes(include=['object']).columns.tolist()\n",
    "df_dummies = pd.get_dummies(df['weather'])\n",
    "df_dummies.tail()\"\"\""
   ]
  },
  {
   "cell_type": "code",
   "execution_count": null,
   "id": "444f2655-744d-40db-b35d-4d56aa122d52",
   "metadata": {},
   "outputs": [],
   "source": [
    "x = df_num.drop('delivery_time', axis=1) #distance\n",
    "y = df_num['delivery_time']"
   ]
  },
  {
   "cell_type": "code",
   "execution_count": null,
   "id": "0ef14970-5e13-400b-b947-d559e98ed97d",
   "metadata": {},
   "outputs": [],
   "source": [
    "#Splitting the data into train and test\n",
    "from sklearn.model_selection import train_test_split\n",
    "x_train, x_test, y_train, y_test = train_test_split(x, y, train_size=0.7, random_state=12)\n",
    "x_train.shape,y_train.shape,x_test.shape,y_test.shape"
   ]
  },
  {
   "cell_type": "code",
   "execution_count": null,
   "id": "d727a422-0a43-49ce-b5cb-4b32fdd9dadc",
   "metadata": {},
   "outputs": [],
   "source": [
    "#Linear Regression\n",
    "from sklearn.linear_model import LinearRegression\n",
    "lm = LinearRegression()\n",
    "lm"
   ]
  },
  {
   "cell_type": "code",
   "execution_count": null,
   "id": "07562074-bede-4ec6-998f-7328037f683e",
   "metadata": {},
   "outputs": [],
   "source": [
    "lm.fit(x_train,y_train)"
   ]
  },
  {
   "cell_type": "code",
   "execution_count": null,
   "id": "19d5565c-807a-4b30-ad80-f81c09b396c8",
   "metadata": {},
   "outputs": [],
   "source": [
    "print(lm.intercept_)"
   ]
  },
  {
   "cell_type": "code",
   "execution_count": null,
   "id": "60c7964c-93eb-4409-bc16-07930cbe82c5",
   "metadata": {},
   "outputs": [],
   "source": [
    "print(lm.coef_)"
   ]
  },
  {
   "cell_type": "code",
   "execution_count": null,
   "id": "0a7bdf8d-ccd5-45d0-9db6-5548b3f5b14d",
   "metadata": {},
   "outputs": [],
   "source": [
    "coeff_df = pd.DataFrame(lm.coef_,x_test.columns,columns=['Coefficient'])\n",
    "coeff_df"
   ]
  },
  {
   "cell_type": "code",
   "execution_count": null,
   "id": "556173bb-42e2-4293-9e2b-548da55cb186",
   "metadata": {},
   "outputs": [],
   "source": [
    "y_pred = lm.predict(x_test)"
   ]
  },
  {
   "cell_type": "code",
   "execution_count": null,
   "id": "e965641e-8027-4806-a4fc-8cd08f0b1557",
   "metadata": {},
   "outputs": [],
   "source": [
    "#Model Performance Metrics\n",
    "from sklearn.metrics import mean_squared_error, r2_score\n",
    "mse = mean_squared_error(y_test, y_pred)\n",
    "r_squared = r2_score(y_test, y_pred) #coefficent of determination\n",
    "r_squared"
   ]
  },
  {
   "cell_type": "code",
   "execution_count": null,
   "id": "177065c3-982c-4a60-b2d2-e1cbc7da374a",
   "metadata": {},
   "outputs": [],
   "source": [
    "from math import sqrt\n",
    "rmse = sqrt(mse)\n",
    "print(\"Mean Squared Error:\",mse)\n",
    "print(\"Root Mean Squared Error:\",rmse)\n",
    "print(\"R Squared:\",r_squared)"
   ]
  },
  {
   "cell_type": "code",
   "execution_count": null,
   "id": "9726e560-45aa-46e3-b401-b95751052865",
   "metadata": {},
   "outputs": [],
   "source": [
    "df1 = pd.DataFrame({'Actual': y_test, 'Predicted': y_pred})\n",
    "df1"
   ]
  },
  {
   "cell_type": "code",
   "execution_count": null,
   "id": "09cf6561-06f7-4048-9639-e1708fd5c5c8",
   "metadata": {},
   "outputs": [],
   "source": [
    "fig, ax = plt.subplots(figsize=(10, 10))\n",
    "df1.plot(ax=ax, linewidth=1.5, marker='d', markersize=5, alpha=1, colormap='viridis')       \n",
    "ax.set_title('Test Data vs Predicted Data', fontsize=16, fontweight='bold')\n",
    "ax.grid(True, linestyle='--', alpha=0.9)\n",
    "ax.legend(fontsize=15, loc='best', frameon=True, facecolor='gray', edgecolor='black')\n",
    "plt.tight_layout()\n",
    "plt.show()"
   ]
  }
 ],
 "metadata": {
  "kernelspec": {
   "display_name": "Python [conda env:base] *",
   "language": "python",
   "name": "conda-base-py"
  },
  "language_info": {
   "codemirror_mode": {
    "name": "ipython",
    "version": 3
   },
   "file_extension": ".py",
   "mimetype": "text/x-python",
   "name": "python",
   "nbconvert_exporter": "python",
   "pygments_lexer": "ipython3",
   "version": "3.12.7"
  }
 },
 "nbformat": 4,
 "nbformat_minor": 5
}
