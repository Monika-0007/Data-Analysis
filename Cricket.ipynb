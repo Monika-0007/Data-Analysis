{
 "cells": [
  {
   "cell_type": "code",
   "execution_count": null,
   "id": "cbb6818d-ea44-4e9a-a60e-bcccdd94568f",
   "metadata": {},
   "outputs": [],
   "source": [
    "!pip install plotly"
   ]
  },
  {
   "cell_type": "code",
   "execution_count": null,
   "id": "610a84dc-ff3a-44e1-a176-5809098e8a2c",
   "metadata": {},
   "outputs": [],
   "source": [
    "!pip install cufflinks"
   ]
  },
  {
   "cell_type": "code",
   "execution_count": null,
   "id": "97c30303-ebe7-4063-9613-85fcc5e0e5f8",
   "metadata": {},
   "outputs": [],
   "source": [
    "import pandas as pd\n",
    "import numpy as np\n",
    "import matplotlib.pyplot as plt\n",
    "from plotly.offline import iplot\n",
    "import plotly as py\n",
    "import plotly.tools as tls\n",
    "import cufflinks as cf\n",
    "cf.go_offline()\n",
    "cf.set_config_file(offline=True, world_readable=True)"
   ]
  },
  {
   "cell_type": "code",
   "execution_count": null,
   "id": "e8a24cfa-788f-4984-a92f-130105a5d92d",
   "metadata": {},
   "outputs": [],
   "source": [
    "pwd"
   ]
  },
  {
   "cell_type": "code",
   "execution_count": null,
   "id": "7fd54836-7a5a-46c1-848a-bb1fb14636b9",
   "metadata": {},
   "outputs": [],
   "source": [
    "odi=pd.read_csv('ODI-Cricket.csv')\n",
    "odi"
   ]
  },
  {
   "cell_type": "code",
   "execution_count": null,
   "id": "291cfdd8-cce4-46f4-9913-1893ee154872",
   "metadata": {},
   "outputs": [],
   "source": [
    "print(odi.iloc[0])\n",
    "#print(odi.head(3))\n",
    "print(odi.head(2).T)"
   ]
  },
  {
   "cell_type": "code",
   "execution_count": null,
   "id": "775c46a3-bb80-4f9c-a8d6-089c57581ca4",
   "metadata": {},
   "outputs": [],
   "source": [
    "odi.plot()"
   ]
  },
  {
   "cell_type": "code",
   "execution_count": null,
   "id": "4f71a1b2-a362-4320-bd64-2dae2736c5ad",
   "metadata": {},
   "outputs": [],
   "source": [
    "odi.iplot()"
   ]
  },
  {
   "cell_type": "code",
   "execution_count": null,
   "id": "0653f523-b58b-4bb4-8ccc-573b61dcc7f3",
   "metadata": {},
   "outputs": [],
   "source": [
    "#odi.plot.bar()\n",
    "#odi.plot.barh()\n",
    "odi['total_runs'].plot.hist()"
   ]
  },
  {
   "cell_type": "code",
   "execution_count": null,
   "id": "ce5b6e3a-82bb-41d2-82a8-7ca56e7ad76f",
   "metadata": {},
   "outputs": [],
   "source": [
    "odi.plot(kind='hist', stacked=True, bins=15, figsize=(5,8), title=\"Histogram of ODI\")"
   ]
  },
  {
   "cell_type": "code",
   "execution_count": null,
   "id": "768e492c-e24e-4427-8df7-1c2adc7d7f0d",
   "metadata": {},
   "outputs": [],
   "source": [
    "odi.hist()"
   ]
  },
  {
   "cell_type": "code",
   "execution_count": null,
   "id": "efbed35f-f953-44ff-b8d7-fd709178938f",
   "metadata": {},
   "outputs": [],
   "source": [
    "odi.hist(figsize= (5,10), color ='#119900', alpha=.9, sharex=False)"
   ]
  },
  {
   "cell_type": "code",
   "execution_count": null,
   "id": "40f15274-07c7-4995-9db3-e019d525df1f",
   "metadata": {},
   "outputs": [],
   "source": [
    "odi.plot.scatter(x='total_matches_played' , y='total_runs')"
   ]
  },
  {
   "cell_type": "code",
   "execution_count": null,
   "id": "3859022b-d3f8-43bf-b3df-d7a4979b6580",
   "metadata": {},
   "outputs": [],
   "source": [
    "odi.plot.scatter(x='total_matches_played' , y='total_runs', label=\"ODI\", s=50)"
   ]
  },
  {
   "cell_type": "code",
   "execution_count": null,
   "id": "38019ac9-0f29-441a-8611-f60d1152270a",
   "metadata": {},
   "outputs": [],
   "source": [
    "odi.plot.hexbin(x='total_matches_played' , y='total_runs', label=\"ODI\", gridsize=15)"
   ]
  },
  {
   "cell_type": "code",
   "execution_count": null,
   "id": "9c74ccde-73d0-42c9-ac04-36cbc001d88d",
   "metadata": {},
   "outputs": [],
   "source": [
    "print(odi.dtypes)"
   ]
  },
  {
   "cell_type": "code",
   "execution_count": null,
   "id": "4c87ae89-361d-46be-baaa-efcc285e1db4",
   "metadata": {},
   "outputs": [],
   "source": [
    "odi['player_of_match_awards'].plot.pie(figsize=(10,10))"
   ]
  },
  {
   "cell_type": "code",
   "execution_count": null,
   "id": "31f6463a-3ce8-44b2-8bfc-f39f2b43eb21",
   "metadata": {},
   "outputs": [],
   "source": [
    "pd.plotting.scatter_matrix(odi, figsize=(15,15))\n",
    "#pd.plotting.scatter_matrix(odi, figsize=(15,15), diagonal='hist')"
   ]
  },
  {
   "cell_type": "code",
   "execution_count": null,
   "id": "895699f2-736c-4b22-a342-09ef91a91456",
   "metadata": {},
   "outputs": [],
   "source": [
    "odi[0:5].iplot(x='total_runs', y='player_name', kind='histogram')"
   ]
  },
  {
   "cell_type": "code",
   "execution_count": null,
   "id": "2c06d8d9-0265-4f96-9a8f-930d4a20a149",
   "metadata": {},
   "outputs": [],
   "source": [
    "odi[0:5].iplot(x='player_name', y='total_runs', kind='bar')"
   ]
  },
  {
   "cell_type": "code",
   "execution_count": null,
   "id": "bc6aa711-e6e3-4307-a02e-c8bdc871ef5f",
   "metadata": {},
   "outputs": [],
   "source": [
    "odi.iplot(x='player_name', y='total_runs', mode='markers', xTitle='Player name', yTitle='Total runs')"
   ]
  },
  {
   "cell_type": "code",
   "execution_count": null,
   "id": "9abd4489-ddad-4b60-b5e8-95032ac47521",
   "metadata": {},
   "outputs": [],
   "source": [
    "odi.iplot(kind='box')"
   ]
  },
  {
   "cell_type": "code",
   "execution_count": null,
   "id": "8610208f-6616-4b79-894b-ebe3e91f37ad",
   "metadata": {},
   "outputs": [],
   "source": [
    "odi[0:10].iplot(x='player_name', y='total_runs', z='strike_rate', kind='scatter3d')"
   ]
  },
  {
   "cell_type": "code",
   "execution_count": null,
   "id": "d5a39af6-b4be-4ee7-9556-0cd24992d7e9",
   "metadata": {},
   "outputs": [],
   "source": [
    "import plotly.express as px\n",
    "fig=px.scatter(odi, x=\"total_matches_played\", y=\"matches_won\", color=\"team\", trendline=\"ols\")\n",
    "fig.show()"
   ]
  },
  {
   "cell_type": "code",
   "execution_count": null,
   "id": "42e5c145-3e1a-4922-83f4-fb18c52ca2a1",
   "metadata": {},
   "outputs": [],
   "source": [
    "fig=px.scatter_matrix(odi, dimensions=['total_matches_played', 'matches_won', 'matches_lost'], color='team')\n",
    "fig.show()"
   ]
  },
  {
   "cell_type": "code",
   "execution_count": null,
   "id": "7b3ec30a-5c19-4e27-adce-91165b1c4868",
   "metadata": {},
   "outputs": [],
   "source": [
    "fig1=px.scatter(odi, x=\"total_runs\", y=\"matches_won\", animation_frame=\"team\", color=\"total_runs\", log_x=True, size_max=45)\n",
    "fig1.show()"
   ]
  },
  {
   "cell_type": "code",
   "execution_count": null,
   "id": "3690b61a-fdbb-44fd-956e-358b8369ae3f",
   "metadata": {},
   "outputs": [],
   "source": [
    "fig=px.sunburst(odi[0:10], path=['player_name','team'], values='total_runs', color='team', hover_data=['total_matches_played'])\n",
    "fig.show()"
   ]
  },
  {
   "cell_type": "code",
   "execution_count": null,
   "id": "022aad0e-7c84-49c2-988a-5e215c1a76e9",
   "metadata": {},
   "outputs": [],
   "source": [
    "fig=px.choropleth(odi, locations=\"team\", color=\"total_runs\", hover_name=\"team\", range_color=[20,100])\n",
    "fig.show()"
   ]
  },
  {
   "cell_type": "code",
   "execution_count": null,
   "id": "b7472228-d98c-4fdc-a6ee-cbf3b63c3034",
   "metadata": {},
   "outputs": [],
   "source": []
  }
 ],
 "metadata": {
  "kernelspec": {
   "display_name": "Python [conda env:base] *",
   "language": "python",
   "name": "conda-base-py"
  },
  "language_info": {
   "codemirror_mode": {
    "name": "ipython",
    "version": 3
   },
   "file_extension": ".py",
   "mimetype": "text/x-python",
   "name": "python",
   "nbconvert_exporter": "python",
   "pygments_lexer": "ipython3",
   "version": "3.12.7"
  }
 },
 "nbformat": 4,
 "nbformat_minor": 5
}
